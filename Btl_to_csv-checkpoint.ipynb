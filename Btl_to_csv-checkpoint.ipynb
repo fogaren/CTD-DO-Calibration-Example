{
 "cells": [
  {
   "cell_type": "code",
   "execution_count": 1,
   "metadata": {},
   "outputs": [
    {
     "name": "stdout",
     "output_type": "stream",
     "text": [
      "Requirement already satisfied: ctd in c:\\users\\fogaren\\anaconda3\\lib\\site-packages (1.1.1)\n",
      "Requirement already satisfied: pandas-flavor>=0.1.2 in c:\\users\\fogaren\\anaconda3\\lib\\site-packages (from ctd) (0.2.0)\n",
      "Requirement already satisfied: numpy in c:\\users\\fogaren\\anaconda3\\lib\\site-packages (from ctd) (1.18.5)\n",
      "Requirement already satisfied: gsw>=3.3.0 in c:\\users\\fogaren\\anaconda3\\lib\\site-packages (from ctd) (3.4.0)\n",
      "Requirement already satisfied: pandas>=0.24.0 in c:\\users\\fogaren\\anaconda3\\lib\\site-packages (from ctd) (1.0.5)\n",
      "Requirement already satisfied: scipy in c:\\users\\fogaren\\anaconda3\\lib\\site-packages (from ctd) (1.5.0)\n",
      "Requirement already satisfied: matplotlib in c:\\users\\fogaren\\anaconda3\\lib\\site-packages (from ctd) (3.2.2)\n",
      "Requirement already satisfied: xarray in c:\\users\\fogaren\\anaconda3\\lib\\site-packages (from pandas-flavor>=0.1.2->ctd) (0.16.0)\n",
      "Requirement already satisfied: python-dateutil>=2.6.1 in c:\\users\\fogaren\\anaconda3\\lib\\site-packages (from pandas>=0.24.0->ctd) (2.8.1)\n",
      "Requirement already satisfied: pytz>=2017.2 in c:\\users\\fogaren\\anaconda3\\lib\\site-packages (from pandas>=0.24.0->ctd) (2020.1)\n",
      "Requirement already satisfied: cycler>=0.10 in c:\\users\\fogaren\\anaconda3\\lib\\site-packages (from matplotlib->ctd) (0.10.0)\n",
      "Requirement already satisfied: pyparsing!=2.0.4,!=2.1.2,!=2.1.6,>=2.0.1 in c:\\users\\fogaren\\anaconda3\\lib\\site-packages (from matplotlib->ctd) (2.4.7)\n",
      "Requirement already satisfied: kiwisolver>=1.0.1 in c:\\users\\fogaren\\anaconda3\\lib\\site-packages (from matplotlib->ctd) (1.2.0)\n",
      "Requirement already satisfied: setuptools>=41.2 in c:\\users\\fogaren\\anaconda3\\lib\\site-packages (from xarray->pandas-flavor>=0.1.2->ctd) (49.2.0.post20200714)\n",
      "Requirement already satisfied: six>=1.5 in c:\\users\\fogaren\\anaconda3\\lib\\site-packages (from python-dateutil>=2.6.1->pandas>=0.24.0->ctd) (1.15.0)\n"
     ]
    }
   ],
   "source": [
    "# Setting up your python workspace\n",
    "!pip install ctd\n",
    "import ctd\n",
    "\n",
    "import pandas as pd\n",
    "import glob\n",
    "import numpy as np\n",
    "import matplotlib.pyplot as plt\n",
    "import scipy"
   ]
  },
  {
   "cell_type": "code",
   "execution_count": 2,
   "metadata": {},
   "outputs": [
    {
     "data": {
      "text/plain": [
       "['ar69-01_004b_hyst.btl',\n",
       " 'ar69-01_006_hyst.btl',\n",
       " 'ar69-01_007_hyst.btl',\n",
       " 'ar69-01_008_hyst.btl',\n",
       " 'ar69-01_009_hyst.btl',\n",
       " 'ar69-01_010_hyst.btl',\n",
       " 'ar69-01_011_hyst.btl',\n",
       " 'ar69-01_012_hyst.btl',\n",
       " 'ar69-01_013_hyst.btl',\n",
       " 'ar69-01_014_hyst.btl',\n",
       " 'ar69-01_016_hyst.btl',\n",
       " 'ar69-01_017_hyst.btl',\n",
       " 'ar69-01_018_hyst.btl',\n",
       " 'ar69-01_019_hyst.btl',\n",
       " 'ar69-01_020_hyst.btl',\n",
       " 'ar69-01_021_hyst.btl',\n",
       " 'ar69-01_022_hyst.btl']"
      ]
     },
     "execution_count": 2,
     "metadata": {},
     "output_type": "execute_result"
    }
   ],
   "source": [
    "# Grab and sort all .cnv files in the directory\n",
    "# Files have to be in the same directory as code \n",
    "files = glob.glob('*.btl')\n",
    "files = sorted(files)\n",
    "files"
   ]
  },
  {
   "cell_type": "code",
   "execution_count": 3,
   "metadata": {},
   "outputs": [
    {
     "name": "stdout",
     "output_type": "stream",
     "text": [
      "    Bottle                Date   Scan     TimeS     PrDM    DepSM   T090C  \\\n",
      "0        1 2022-06-25 17:05:34  23270   969.542  611.173  604.968  3.9273   \n",
      "1        1 2022-06-25 17:05:34     14     0.595    0.233    0.231  0.0003   \n",
      "2        2 2022-06-25 17:05:43  23490   978.708  610.978  604.775  3.9277   \n",
      "3        2 2022-06-25 17:05:43     14     0.595    0.050    0.050  0.0003   \n",
      "4        3 2022-06-25 17:05:51  23672   986.292  610.915  604.713  3.9271   \n",
      "5        3 2022-06-25 17:05:51     14     0.595    0.060    0.059  0.0003   \n",
      "6        4 2022-06-25 17:05:58  23852   993.792  610.707  604.507  3.9269   \n",
      "7        4 2022-06-25 17:05:58     14     0.595    0.091    0.090  0.0002   \n",
      "8        5 2022-06-25 17:11:18  31529  1313.667  408.940  404.984  3.9351   \n",
      "9        5 2022-06-25 17:11:18     14     0.595    0.068    0.068  0.0016   \n",
      "10       6 2022-06-25 17:11:27  31736  1322.292  408.745  404.792  3.9373   \n",
      "11       6 2022-06-25 17:11:27     14     0.595    0.092    0.091  0.0004   \n",
      "12       7 2022-06-25 17:16:20  38763  1615.083  206.985  205.083  4.4054   \n",
      "13       7 2022-06-25 17:16:20     14     0.595    0.047    0.047  0.0002   \n",
      "14       8 2022-06-25 17:16:27  38948  1622.792  207.163  205.259  4.4047   \n",
      "15       8 2022-06-25 17:16:27     14     0.595    0.041    0.040  0.0003   \n",
      "\n",
      "     T190C    C0mS/cm    C1mS/cm  Sbeox0V  Sbeox0ML/L  Latitude  Longitude  \\\n",
      "0   3.9278  32.675032  32.677179   2.2608      6.0571  51.33233  -47.48400   \n",
      "1   0.0009   0.000240   0.000795   0.0007      0.0022   0.00001    0.00000   \n",
      "2   3.9280  32.675412  32.677459   2.2616      6.0597  51.33234  -47.48398   \n",
      "3   0.0001   0.000271   0.000252   0.0006      0.0021   0.00000    0.00001   \n",
      "4   3.9272  32.674679  32.676743   2.2619      6.0608  51.33234  -47.48398   \n",
      "5   0.0003   0.000179   0.000294   0.0006      0.0020   0.00000    0.00000   \n",
      "6   3.9269  32.674412  32.676246   2.2620      6.0609  51.33234  -47.48398   \n",
      "7   0.0003   0.000235   0.000405   0.0007      0.0022   0.00000    0.00000   \n",
      "8   3.9332  32.557049  32.557234   2.3329      6.1434  51.33232  -47.48380   \n",
      "9   0.0014   0.001456   0.001567   0.0006      0.0020   0.00000    0.00000   \n",
      "10  3.9371  32.558940  32.560663   2.3326      6.1418  51.33232  -47.48378   \n",
      "11  0.0002   0.000401   0.000197   0.0005      0.0015   0.00000    0.00000   \n",
      "12  4.4043  32.864504  32.865602   2.3314      5.9037  51.33226  -47.48362   \n",
      "13  0.0004   0.000225   0.000395   0.0006      0.0020   0.00000    0.00000   \n",
      "14  4.4042  32.863926  32.865525   2.3327      5.9082  51.33226  -47.48362   \n",
      "15  0.0002   0.000327   0.000240   0.0006      0.0019   0.00000    0.00000   \n",
      "\n",
      "   Statistic  \n",
      "0        avg  \n",
      "1       sdev  \n",
      "2        avg  \n",
      "3       sdev  \n",
      "4        avg  \n",
      "5       sdev  \n",
      "6        avg  \n",
      "7       sdev  \n",
      "8        avg  \n",
      "9       sdev  \n",
      "10       avg  \n",
      "11      sdev  \n",
      "12       avg  \n",
      "13      sdev  \n",
      "14       avg  \n",
      "15      sdev  \n"
     ]
    }
   ],
   "source": [
    "  # Test for fn file \n",
    "fn = 0\n",
    "data = ctd.from_btl(files[fn])\n",
    "print(data)"
   ]
  },
  {
   "cell_type": "code",
   "execution_count": 4,
   "metadata": {},
   "outputs": [
    {
     "name": "stdout",
     "output_type": "stream",
     "text": [
      "ar69-01_004b_hyst\n"
     ]
    }
   ],
   "source": [
    "filename = files[fn].split('/')[-1].split('.')[0]\n",
    "print(filename)"
   ]
  },
  {
   "cell_type": "code",
   "execution_count": 5,
   "metadata": {},
   "outputs": [],
   "source": [
    "\n",
    "for datafile in files:\n",
    "    data = ctd.from_btl(datafile)\n",
    "            \n",
    "    filename = datafile.split('/')[-1].split('.')[0]\n",
    "    data = data.loc[(data['Statistic'] == 'avg')]\n",
    "    dataout = pd.DataFrame(data)\n",
    "    dataout.to_csv(filename + '.csv', index = False, header = True)"
   ]
  },
  {
   "cell_type": "code",
   "execution_count": null,
   "metadata": {},
   "outputs": [],
   "source": []
  }
 ],
 "metadata": {
  "kernelspec": {
   "display_name": "Python 3",
   "language": "python",
   "name": "python3"
  },
  "language_info": {
   "codemirror_mode": {
    "name": "ipython",
    "version": 3
   },
   "file_extension": ".py",
   "mimetype": "text/x-python",
   "name": "python",
   "nbconvert_exporter": "python",
   "pygments_lexer": "ipython3",
   "version": "3.8.3"
  }
 },
 "nbformat": 4,
 "nbformat_minor": 2
}
