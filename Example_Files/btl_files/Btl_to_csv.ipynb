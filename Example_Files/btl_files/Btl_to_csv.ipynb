{
 "cells": [
  {
   "cell_type": "code",
   "execution_count": 1,
   "metadata": {},
   "outputs": [
    {
     "name": "stdout",
     "output_type": "stream",
     "text": [
      "Requirement already satisfied: ctd in c:\\users\\fogaren\\anaconda3\\lib\\site-packages (1.1.1)\n",
      "Requirement already satisfied: matplotlib in c:\\users\\fogaren\\anaconda3\\lib\\site-packages (from ctd) (3.2.2)\n",
      "Requirement already satisfied: pandas>=0.24.0 in c:\\users\\fogaren\\anaconda3\\lib\\site-packages (from ctd) (1.0.5)\n",
      "Requirement already satisfied: gsw>=3.3.0 in c:\\users\\fogaren\\anaconda3\\lib\\site-packages (from ctd) (3.4.0)\n",
      "Requirement already satisfied: numpy in c:\\users\\fogaren\\anaconda3\\lib\\site-packages (from ctd) (1.18.5)\n",
      "Requirement already satisfied: scipy in c:\\users\\fogaren\\anaconda3\\lib\\site-packages (from ctd) (1.5.0)\n",
      "Requirement already satisfied: pandas-flavor>=0.1.2 in c:\\users\\fogaren\\anaconda3\\lib\\site-packages (from ctd) (0.2.0)\n",
      "Requirement already satisfied: python-dateutil>=2.1 in c:\\users\\fogaren\\anaconda3\\lib\\site-packages (from matplotlib->ctd) (2.8.1)\n",
      "Requirement already satisfied: kiwisolver>=1.0.1 in c:\\users\\fogaren\\anaconda3\\lib\\site-packages (from matplotlib->ctd) (1.2.0)\n",
      "Requirement already satisfied: pyparsing!=2.0.4,!=2.1.2,!=2.1.6,>=2.0.1 in c:\\users\\fogaren\\anaconda3\\lib\\site-packages (from matplotlib->ctd) (2.4.7)\n",
      "Requirement already satisfied: cycler>=0.10 in c:\\users\\fogaren\\anaconda3\\lib\\site-packages (from matplotlib->ctd) (0.10.0)\n",
      "Requirement already satisfied: pytz>=2017.2 in c:\\users\\fogaren\\anaconda3\\lib\\site-packages (from pandas>=0.24.0->ctd) (2020.1)\n",
      "Requirement already satisfied: xarray in c:\\users\\fogaren\\anaconda3\\lib\\site-packages (from pandas-flavor>=0.1.2->ctd) (0.16.0)\n",
      "Requirement already satisfied: six>=1.5 in c:\\users\\fogaren\\anaconda3\\lib\\site-packages (from python-dateutil>=2.1->matplotlib->ctd) (1.15.0)\n",
      "Requirement already satisfied: setuptools>=41.2 in c:\\users\\fogaren\\anaconda3\\lib\\site-packages (from xarray->pandas-flavor>=0.1.2->ctd) (49.2.0.post20200714)\n"
     ]
    }
   ],
   "source": [
    "# Setting up your python workspace\n",
    "!pip install ctd\n",
    "import ctd\n",
    "\n",
    "import pandas as pd\n",
    "import glob\n",
    "import numpy as np\n",
    "import matplotlib.pyplot as plt\n",
    "import scipy"
   ]
  },
  {
   "cell_type": "code",
   "execution_count": 2,
   "metadata": {},
   "outputs": [
    {
     "data": {
      "text/plain": [
       "['ar69-01_006.btl',\n",
       " 'ar69-01_007.btl',\n",
       " 'ar69-01_008.btl',\n",
       " 'ar69-01_009.btl',\n",
       " 'ar69-01_010.btl',\n",
       " 'ar69-01_011.btl',\n",
       " 'ar69-01_012.btl',\n",
       " 'ar69-01_013.btl',\n",
       " 'ar69-01_014.btl',\n",
       " 'ar69-01_016.btl',\n",
       " 'ar69-01_017.btl',\n",
       " 'ar69-01_018.btl',\n",
       " 'ar69-01_019.btl',\n",
       " 'ar69-01_020.btl',\n",
       " 'ar69-01_021.btl',\n",
       " 'ar69-01_022.btl']"
      ]
     },
     "execution_count": 2,
     "metadata": {},
     "output_type": "execute_result"
    }
   ],
   "source": [
    "# Grab and sort all .cnv files in the directory\n",
    "# Files have to be in the same directory as code \n",
    "files = glob.glob('*.btl')\n",
    "files = sorted(files)\n",
    "files"
   ]
  },
  {
   "cell_type": "code",
   "execution_count": 4,
   "metadata": {},
   "outputs": [
    {
     "name": "stdout",
     "output_type": "stream",
     "text": [
      "   Bottle                Date    Scan     TimeS      PrDM     DepSM   T090C  \\\n",
      "0       1 2022-06-26 12:14:23  119230  4967.875  2435.421  2399.832  3.0809   \n",
      "1       1 2022-06-26 12:14:23      14     0.595     0.353     0.346  0.0010   \n",
      "2       2 2022-06-26 12:14:31  119434  4976.375  2435.036  2399.454  3.0825   \n",
      "3       2 2022-06-26 12:14:31      14     0.595     0.086     0.084  0.0005   \n",
      "\n",
      "    T190C    C0mS/cm    C1mS/cm  Sbeox0V  Latitude  Longitude Statistic  \n",
      "0  3.0819  32.704159  32.706111   1.8445  53.62114  -45.65756       avg  \n",
      "1  0.0006   0.000979   0.000690   0.0006   0.00000    0.00000      sdev  \n",
      "2  3.0827  32.705620  32.706826   1.8441  53.62114  -45.65754       avg  \n",
      "3  0.0002   0.000380   0.000329   0.0006   0.00001    0.00000      sdev  \n"
     ]
    }
   ],
   "source": [
    "  # Test for fn file \n",
    "fn = 0\n",
    "data = ctd.from_btl(files[fn])\n",
    "print(data)"
   ]
  },
  {
   "cell_type": "code",
   "execution_count": 5,
   "metadata": {},
   "outputs": [
    {
     "name": "stdout",
     "output_type": "stream",
     "text": [
      "ar69-01_006\n"
     ]
    }
   ],
   "source": [
    "filename = files[fn].split('/')[-1].split('.')[0]\n",
    "print(filename)"
   ]
  },
  {
   "cell_type": "code",
   "execution_count": 6,
   "metadata": {},
   "outputs": [],
   "source": [
    "\n",
    "for datafile in files:\n",
    "    data = ctd.from_btl(datafile)\n",
    "            \n",
    "    filename = datafile.split('/')[-1].split('.')[0]\n",
    "    data = data.loc[(data['Statistic'] == 'avg')]\n",
    "    dataout = pd.DataFrame(data)\n",
    "    dataout.to_csv(filename + '.csv', index = False, header = True)"
   ]
  },
  {
   "cell_type": "code",
   "execution_count": null,
   "metadata": {},
   "outputs": [],
   "source": []
  }
 ],
 "metadata": {
  "kernelspec": {
   "display_name": "Python 3",
   "language": "python",
   "name": "python3"
  },
  "language_info": {
   "codemirror_mode": {
    "name": "ipython",
    "version": 3
   },
   "file_extension": ".py",
   "mimetype": "text/x-python",
   "name": "python",
   "nbconvert_exporter": "python",
   "pygments_lexer": "ipython3",
   "version": "3.8.3"
  }
 },
 "nbformat": 4,
 "nbformat_minor": 2
}
